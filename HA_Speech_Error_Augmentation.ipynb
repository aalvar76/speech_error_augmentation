{
 "cells": [
  {
   "cell_type": "markdown",
   "metadata": {},
   "source": [
    "<h1>Human Augmentics Project</h1>\n",
    "<h2>Error in Speech Augmentation</h2>"
   ]
  },
  {
   "cell_type": "markdown",
   "metadata": {},
   "source": [
    "<h4>Import libraries to be used</h4>"
   ]
  },
  {
   "cell_type": "code",
   "execution_count": 52,
   "metadata": {},
   "outputs": [
    {
     "name": "stdout",
     "output_type": "stream",
     "text": [
      "Populating the interactive namespace from numpy and matplotlib\n"
     ]
    }
   ],
   "source": [
    "#Measuring Errors Comparing to the proper baseline for correct speech\n",
    "import matplotlib.pyplot as plt\n",
    "from scipy import signal\n",
    "from scipy.io import wavfile\n",
    "import librosa\n",
    "from scipy.spatial.distance import euclidean\n",
    "from fastdtw import fastdtw\n",
    "import numpy as np\n",
    "import librosa.display\n",
    "from dtw import dtw\n",
    "from numpy.linalg import norm\n",
    "import pandas as pd\n",
    "\n",
    "%pylab inline"
   ]
  },
  {
   "cell_type": "markdown",
   "metadata": {},
   "source": [
    "<h3>Load Files and process them</h3>\n",
    "<p>\n",
    "    In this part of the code we upload the baseline audio which is a file of the expected pronunciation of the utterance ragarding rate.\n",
    "    We extract the MFCC coefficients and duration of the audio to be used later\n",
    "</p>"
   ]
  },
  {
   "cell_type": "code",
   "execution_count": 176,
   "metadata": {},
   "outputs": [
    {
     "name": "stdout",
     "output_type": "stream",
     "text": [
      "0.0 505.730619488 35024.4514412 115.0\n"
     ]
    }
   ],
   "source": [
    "#file names\n",
    "audio_baseline = 'original.wav'\n",
    "#array with initial name of recorded audios (k=Kristina, a=Alpa, v=Recorded voice from: https://www.naturalreaders.com/online/) \n",
    "#and adjusted using Audacity software\n",
    "#the files names follow this pattern: name+level-number.wav, so when you create a new audio file and want to process it add the name\n",
    "#to the following array\n",
    "audio_errors = ['k','a','v','aa']\n",
    "\n",
    "#an array indicating the gender classification of each audio\n",
    "# f for Female, m for Male\n",
    "#everytime you add a new file you have to write the gender label here for correct mapping\n",
    "audio_genders = ['F','F','M', 'M']\n",
    "#path where audios with different levels are located. Note: you have to change this to point to your local directory\n",
    "path = '../ha_project/'\n",
    "\n",
    "# files that are going to be created\n",
    "# Final Data csv file name\n",
    "path_final_data = path+'/levels/final_data.csv'\n",
    "# Error scale csv file name\n",
    "path_scale_data = path+'/levels/scale_data.csv'\n",
    "# Audio files for levels of error  path\n",
    "path_audio_files = path+'/levels/'\n",
    "\n",
    "# Set the sample rate we want to use to read our audio files\n",
    "sample_rate = 44100\n",
    "\n",
    "#create a table showing the coefficients and the difference of coefficients of errors audio respect to baseline\n",
    "error_table_comparison = dict()\n",
    "error_table_comparison['File name'] = list()\n",
    "error_table_comparison['Levels'] = list()\n",
    "error_table_comparison['Samples'] = list()\n",
    "error_table_comparison['Sample Rate'] = list()\n",
    "error_table_comparison['MFC Coefficients'] = list()\n",
    "error_table_comparison['Sum of Coefficients'] = list()\n",
    "error_table_comparison['DTW'] = list()\n",
    "error_table_comparison['Gender'] = list()\n",
    "error_table_comparison['Duration'] = list()\n",
    "error_table_comparison['DurationDiff'] = list()\n",
    "#load baseline audio\n",
    "baseline_samples, baseline_sample_rate = librosa.load(path_audio_files+audio_baseline, sr=sample_rate)\n",
    "#extract the mfcc coefficients from the baseline audio\n",
    "baseline_mfcc = librosa.feature.mfcc(baseline_samples, baseline_sample_rate)\n",
    "#calculate thte distance related to the baseline, in this case we use the same coefficients because we are comparing\n",
    "#the same audio file \n",
    "\n",
    "baseline_dist, baseline_cost, baseline_acc_cost, baseline_path = dtw(baseline_mfcc.T, baseline_mfcc.T, dist=lambda x, y: norm(x - y, ord=1))\n",
    "\n",
    "#add baseline audio data to the table \n",
    "error_table_comparison['File name'].append(audio_baseline)\n",
    "error_table_comparison['Levels'].append('baseline')\n",
    "error_table_comparison['Samples'].append(baseline_samples)\n",
    "error_table_comparison['Sample Rate'].append(baseline_sample_rate)\n",
    "error_table_comparison['MFC Coefficients'].append(baseline_mfcc)\n",
    "error_table_comparison['Sum of Coefficients'].append(np.sum(baseline_mfcc))\n",
    "error_table_comparison['DTW'].append(baseline_dist) \n",
    "error_table_comparison['Gender'].append('F')\n",
    "\n",
    "baseline_duration = len(baseline_samples)/baseline_sample_rate\n",
    "\n",
    "error_table_comparison['Duration'].append(baseline_duration)\n",
    "error_table_comparison['DurationDiff'].append(baseline_duration-baseline_duration)\n",
    "\n",
    "print(baseline_dist, np.mean(baseline_cost), np.mean(baseline_acc_cost),np.mean(baseline_path))"
   ]
  },
  {
   "cell_type": "markdown",
   "metadata": {},
   "source": [
    "<h3>Plot the baseline waveform and MFCC values</h3>"
   ]
  },
  {
   "cell_type": "code",
   "execution_count": 154,
   "metadata": {},
   "outputs": [
    {
     "data": {
      "text/plain": [
       "[<matplotlib.lines.Line2D at 0x1fbb6fd0>]"
      ]
     },
     "execution_count": 154,
     "metadata": {},
     "output_type": "execute_result"
    },
    {
     "data": {
      "image/png": "[encoded data removed]",
      "text/plain": [
       "<matplotlib.figure.Figure at 0x1fb857d0>"
      ]
     },
     "metadata": {},
     "output_type": "display_data"
    }
   ],
   "source": [
    "plot(baseline_samples)"
   ]
  },
  {
   "cell_type": "code",
   "execution_count": 153,
   "metadata": {},
   "outputs": [
    {
     "data": {
      "text/plain": [
       "<matplotlib.axes._subplots.AxesSubplot at 0x1f29c830>"
      ]
     },
     "execution_count": 153,
     "metadata": {},
     "output_type": "execute_result"
    },
    {
     "data": {
      "image/png": "[encoded data removed]",
      "text/plain": [
       "<matplotlib.figure.Figure at 0x1f2cdd90>"
      ]
     },
     "metadata": {},
     "output_type": "display_data"
    }
   ],
   "source": [
    "plot(baseline_mfcc)\n",
    "subplot(1, 2, 1)\n",
    "librosa.display.specshow(baseline_mfcc)"
   ]
  },
  {
   "cell_type": "markdown",
   "metadata": {},
   "source": [
    "<h3>Load recorded audio files and process them</h3>\n",
    "<p>\n",
    "    In this the pre-recorded audio files are processed collecting information like duration, mfcc, duration difference against the baseline audio and so on.\n",
    "    Information is stored in a Dictionary.\n",
    "</p>"
   ]
  },
  {
   "cell_type": "code",
   "execution_count": 177,
   "metadata": {},
   "outputs": [],
   "source": [
    "#FOR EACH AUDIO ERROR\n",
    "#Extract the coefficients and other data from each audio.\n",
    "#Also extract the DTW comparing the error audio against the baseline audio\n",
    "#Once finished lets create a dataframe with all this information and save it as a csv file for further analysis\n",
    "for file_number in [0,1,2,3,4]:\n",
    "    gender_index = 0\n",
    "    for filename in audio_errors:\n",
    "        #tmp filename\n",
    "        tmp_file_name = filename+str(file_number)+'.wav'\n",
    "        #add the file name to the dictionary\n",
    "        error_table_comparison['File name'].append(tmp_file_name)\n",
    "        error_table_comparison['Levels'].append('Level-'+str(file_number))\n",
    "        #load audio\n",
    "        error_audio_samples, error_audio_sample_rate = librosa.load(path_audio_files+tmp_file_name, sr=sample_rate)\n",
    "        #add info to the table\n",
    "        error_table_comparison['Samples'].append(error_audio_samples)\n",
    "        error_table_comparison['Sample Rate'].append(error_audio_sample_rate)\n",
    "        #extract the mfcc coefficients from the audio with augmented error\n",
    "        error_audio_mfcc = librosa.feature.mfcc(error_audio_samples, error_audio_sample_rate)\n",
    "        error_table_comparison['MFC Coefficients'].append(error_audio_mfcc)\n",
    "        error_table_comparison['Sum of Coefficients'].append(np.sum(error_audio_mfcc))\n",
    "        #compare the augmented error file with the baseline file\n",
    "        #Applying Dynamic Time Warping to measure similarity between two temporal sequences\n",
    "        # Euclidean Distance\n",
    "        error_audio_dist, error_audio_cost, error_audio_acc_cost, error_audio_path = dtw(baseline_mfcc.T, error_audio_mfcc.T, dist=lambda x, y: norm(x - y, ord=1))\n",
    "        error_table_comparison['DTW'].append(error_audio_dist) \n",
    "        error_table_comparison['Gender'].append(audio_genders[gender_index])\n",
    "        error_file_duration = len(error_audio_samples)/error_audio_sample_rate\n",
    "        error_table_comparison['Duration'].append(error_file_duration)\n",
    "        error_table_comparison['DurationDiff'].append(error_file_duration - baseline_duration)\n",
    "        gender_index = gender_index+1"
   ]
  },
  {
   "cell_type": "markdown",
   "metadata": {},
   "source": [
    "<h3>Create DataFrames with the information collected about the recorded Audios</h3>\n",
    "<p>\n",
    "    Add all the information with the corresponding level and file name\n",
    "</p>"
   ]
  },
  {
   "cell_type": "code",
   "execution_count": 178,
   "metadata": {},
   "outputs": [],
   "source": [
    "\n",
    "final_data = pd.DataFrame(error_table_comparison)\n",
    "#saving data to file\n",
    "#if you want to add all the columns like Samples and MFC Coefficients just write the column name \n",
    "#between quotation marks\n",
    "final_data = final_data[['File name','Levels','Sample Rate','Sum of Coefficients','DTW','Gender','Duration','DurationDiff']]\n",
    "\n",
    "\n",
    "# Build a scale table averaging information created above for each error level\n",
    "# Save the information into a csv file for further analysis\n",
    "error_table_scale = dict()\n",
    "error_table_scale['Level'] = list()\n",
    "error_table_scale['Avg-coef'] = list()\n",
    "error_table_scale['Avg-dtw'] = list()\n",
    "error_table_scale['Avg-duration'] = list()\n",
    "error_table_scale['Avg-duration-diff'] = list()\n",
    "\n",
    "for level_number in ['0','1','2','3','4']:\n",
    "    #temp_array = [x for x in error_table_comparison if x['Levels']== 'Level-'+level_number]\n",
    "    temp_list_dtw = list()\n",
    "    temp_list_coef = list()\n",
    "    temp_list_duration = list()\n",
    "    temp_list_duration_diff = list()\n",
    "    error_table_scale['Level'].append('Level-'+level_number)\n",
    "    for index, value in enumerate(error_table_comparison['Levels']):\n",
    "        if(value=='Level-'+level_number):\n",
    "            temp_list_dtw.append(error_table_comparison['DTW'][index])\n",
    "            temp_list_coef.append(error_table_comparison['Sum of Coefficients'][index])\n",
    "            temp_list_duration.append(error_table_comparison['Duration'][index])\n",
    "            temp_list_duration_diff.append(error_table_comparison['DurationDiff'][index])\n",
    "            \n",
    "    error_table_scale['Avg-coef'].append(np.average(temp_list_coef))\n",
    "    error_table_scale['Avg-dtw'].append(np.average(temp_list_dtw))\n",
    "    error_table_scale['Avg-duration'].append(np.average(temp_list_duration))\n",
    "    error_table_scale['Avg-duration-diff'].append(np.average(temp_list_duration_diff))\n",
    "\n",
    "#saving data to file\n",
    "scale_table = pd.DataFrame(error_table_scale)"
   ]
  },
  {
   "cell_type": "markdown",
   "metadata": {},
   "source": [
    "<h3>Information collected from audio files</h3>"
   ]
  },
  {
   "cell_type": "code",
   "execution_count": 179,
   "metadata": {},
   "outputs": [
    {
     "data": {
      "text/html": [
       "<div>\n",
       "<style scoped>\n",
       "    .dataframe tbody tr th:only-of-type {\n",
       "        vertical-align: middle;\n",
       "    }\n",
       "\n",
       "    .dataframe tbody tr th {\n",
       "        vertical-align: top;\n",
       "    }\n",
       "\n",
       "    .dataframe thead th {\n",
       "        text-align: right;\n",
       "    }\n",
       "</style>\n",
       "<table border=\"1\" class=\"dataframe\">\n",
       "  <thead>\n",
       "    <tr style=\"text-align: right;\">\n",
       "      <th></th>\n",
       "      <th>File name</th>\n",
       "      <th>Levels</th>\n",
       "      <th>Sample Rate</th>\n",
       "      <th>Sum of Coefficients</th>\n",
       "      <th>DTW</th>\n",
       "      <th>Gender</th>\n",
       "      <th>Duration</th>\n",
       "      <th>DurationDiff</th>\n",
       "    </tr>\n",
       "  </thead>\n",
       "  <tbody>\n",
       "    <tr>\n",
       "      <th>0</th>\n",
       "      <td>original.wav</td>\n",
       "      <td>baseline</td>\n",
       "      <td>44100</td>\n",
       "      <td>-48016.391331</td>\n",
       "      <td>0.000000</td>\n",
       "      <td>F</td>\n",
       "      <td>2.675465</td>\n",
       "      <td>0.000000</td>\n",
       "    </tr>\n",
       "    <tr>\n",
       "      <th>1</th>\n",
       "      <td>k0.wav</td>\n",
       "      <td>Level-0</td>\n",
       "      <td>44100</td>\n",
       "      <td>-140084.202632</td>\n",
       "      <td>233.094343</td>\n",
       "      <td>F</td>\n",
       "      <td>3.771905</td>\n",
       "      <td>1.096440</td>\n",
       "    </tr>\n",
       "    <tr>\n",
       "      <th>2</th>\n",
       "      <td>a0.wav</td>\n",
       "      <td>Level-0</td>\n",
       "      <td>44100</td>\n",
       "      <td>-118125.932739</td>\n",
       "      <td>238.994272</td>\n",
       "      <td>F</td>\n",
       "      <td>3.152132</td>\n",
       "      <td>0.476667</td>\n",
       "    </tr>\n",
       "    <tr>\n",
       "      <th>3</th>\n",
       "      <td>v0.wav</td>\n",
       "      <td>Level-0</td>\n",
       "      <td>44100</td>\n",
       "      <td>-54885.110537</td>\n",
       "      <td>143.859480</td>\n",
       "      <td>M</td>\n",
       "      <td>3.013741</td>\n",
       "      <td>0.338277</td>\n",
       "    </tr>\n",
       "    <tr>\n",
       "      <th>4</th>\n",
       "      <td>aa0.wav</td>\n",
       "      <td>Level-0</td>\n",
       "      <td>44100</td>\n",
       "      <td>-133779.589229</td>\n",
       "      <td>238.737962</td>\n",
       "      <td>M</td>\n",
       "      <td>4.355624</td>\n",
       "      <td>1.680159</td>\n",
       "    </tr>\n",
       "    <tr>\n",
       "      <th>5</th>\n",
       "      <td>k1.wav</td>\n",
       "      <td>Level-1</td>\n",
       "      <td>44100</td>\n",
       "      <td>-237255.316532</td>\n",
       "      <td>288.961683</td>\n",
       "      <td>F</td>\n",
       "      <td>5.592109</td>\n",
       "      <td>2.916644</td>\n",
       "    </tr>\n",
       "    <tr>\n",
       "      <th>6</th>\n",
       "      <td>a1.wav</td>\n",
       "      <td>Level-1</td>\n",
       "      <td>44100</td>\n",
       "      <td>-151284.278361</td>\n",
       "      <td>289.204161</td>\n",
       "      <td>F</td>\n",
       "      <td>4.412971</td>\n",
       "      <td>1.737506</td>\n",
       "    </tr>\n",
       "    <tr>\n",
       "      <th>7</th>\n",
       "      <td>v1.wav</td>\n",
       "      <td>Level-1</td>\n",
       "      <td>44100</td>\n",
       "      <td>-75937.933205</td>\n",
       "      <td>147.956132</td>\n",
       "      <td>M</td>\n",
       "      <td>3.751927</td>\n",
       "      <td>1.076463</td>\n",
       "    </tr>\n",
       "    <tr>\n",
       "      <th>8</th>\n",
       "      <td>aa1.wav</td>\n",
       "      <td>Level-1</td>\n",
       "      <td>44100</td>\n",
       "      <td>-85525.341936</td>\n",
       "      <td>250.702080</td>\n",
       "      <td>M</td>\n",
       "      <td>4.838481</td>\n",
       "      <td>2.163016</td>\n",
       "    </tr>\n",
       "    <tr>\n",
       "      <th>9</th>\n",
       "      <td>k2.wav</td>\n",
       "      <td>Level-2</td>\n",
       "      <td>44100</td>\n",
       "      <td>-276739.159359</td>\n",
       "      <td>303.380231</td>\n",
       "      <td>F</td>\n",
       "      <td>6.460249</td>\n",
       "      <td>3.784785</td>\n",
       "    </tr>\n",
       "    <tr>\n",
       "      <th>10</th>\n",
       "      <td>a2.wav</td>\n",
       "      <td>Level-2</td>\n",
       "      <td>44100</td>\n",
       "      <td>-213323.602890</td>\n",
       "      <td>283.196450</td>\n",
       "      <td>F</td>\n",
       "      <td>5.397052</td>\n",
       "      <td>2.721587</td>\n",
       "    </tr>\n",
       "    <tr>\n",
       "      <th>11</th>\n",
       "      <td>v2.wav</td>\n",
       "      <td>Level-2</td>\n",
       "      <td>44100</td>\n",
       "      <td>-96590.310022</td>\n",
       "      <td>168.470715</td>\n",
       "      <td>M</td>\n",
       "      <td>5.320181</td>\n",
       "      <td>2.644717</td>\n",
       "    </tr>\n",
       "    <tr>\n",
       "      <th>12</th>\n",
       "      <td>aa2.wav</td>\n",
       "      <td>Level-2</td>\n",
       "      <td>44100</td>\n",
       "      <td>-140017.396987</td>\n",
       "      <td>281.977397</td>\n",
       "      <td>M</td>\n",
       "      <td>6.060431</td>\n",
       "      <td>3.384966</td>\n",
       "    </tr>\n",
       "    <tr>\n",
       "      <th>13</th>\n",
       "      <td>k3.wav</td>\n",
       "      <td>Level-3</td>\n",
       "      <td>44100</td>\n",
       "      <td>-313422.697445</td>\n",
       "      <td>332.450153</td>\n",
       "      <td>F</td>\n",
       "      <td>7.125850</td>\n",
       "      <td>4.450385</td>\n",
       "    </tr>\n",
       "    <tr>\n",
       "      <th>14</th>\n",
       "      <td>a3.wav</td>\n",
       "      <td>Level-3</td>\n",
       "      <td>44100</td>\n",
       "      <td>-257405.756240</td>\n",
       "      <td>292.480522</td>\n",
       "      <td>F</td>\n",
       "      <td>7.857256</td>\n",
       "      <td>5.181791</td>\n",
       "    </tr>\n",
       "    <tr>\n",
       "      <th>15</th>\n",
       "      <td>v3.wav</td>\n",
       "      <td>Level-3</td>\n",
       "      <td>44100</td>\n",
       "      <td>-131960.462571</td>\n",
       "      <td>199.404365</td>\n",
       "      <td>M</td>\n",
       "      <td>8.103288</td>\n",
       "      <td>5.427823</td>\n",
       "    </tr>\n",
       "    <tr>\n",
       "      <th>16</th>\n",
       "      <td>aa3.wav</td>\n",
       "      <td>Level-3</td>\n",
       "      <td>44100</td>\n",
       "      <td>-144767.485752</td>\n",
       "      <td>287.582033</td>\n",
       "      <td>M</td>\n",
       "      <td>6.752132</td>\n",
       "      <td>4.076667</td>\n",
       "    </tr>\n",
       "    <tr>\n",
       "      <th>17</th>\n",
       "      <td>k4.wav</td>\n",
       "      <td>Level-4</td>\n",
       "      <td>44100</td>\n",
       "      <td>-481028.105373</td>\n",
       "      <td>366.131569</td>\n",
       "      <td>F</td>\n",
       "      <td>10.532154</td>\n",
       "      <td>7.856689</td>\n",
       "    </tr>\n",
       "    <tr>\n",
       "      <th>18</th>\n",
       "      <td>a4.wav</td>\n",
       "      <td>Level-4</td>\n",
       "      <td>44100</td>\n",
       "      <td>-315343.887563</td>\n",
       "      <td>309.343438</td>\n",
       "      <td>F</td>\n",
       "      <td>8.749070</td>\n",
       "      <td>6.073605</td>\n",
       "    </tr>\n",
       "    <tr>\n",
       "      <th>19</th>\n",
       "      <td>v4.wav</td>\n",
       "      <td>Level-4</td>\n",
       "      <td>44100</td>\n",
       "      <td>-154831.330542</td>\n",
       "      <td>204.816463</td>\n",
       "      <td>M</td>\n",
       "      <td>9.318005</td>\n",
       "      <td>6.642540</td>\n",
       "    </tr>\n",
       "    <tr>\n",
       "      <th>20</th>\n",
       "      <td>aa4.wav</td>\n",
       "      <td>Level-4</td>\n",
       "      <td>44100</td>\n",
       "      <td>-252507.567653</td>\n",
       "      <td>292.057638</td>\n",
       "      <td>M</td>\n",
       "      <td>10.827415</td>\n",
       "      <td>8.151950</td>\n",
       "    </tr>\n",
       "  </tbody>\n",
       "</table>\n",
       "</div>"
      ],
      "text/plain": [
       "       File name    Levels  Sample Rate  Sum of Coefficients         DTW  \\\n",
       "0   original.wav  baseline        44100        -48016.391331    0.000000   \n",
       "1         k0.wav   Level-0        44100       -140084.202632  233.094343   \n",
       "2         a0.wav   Level-0        44100       -118125.932739  238.994272   \n",
       "3         v0.wav   Level-0        44100        -54885.110537  143.859480   \n",
       "4        aa0.wav   Level-0        44100       -133779.589229  238.737962   \n",
       "5         k1.wav   Level-1        44100       -237255.316532  288.961683   \n",
       "6         a1.wav   Level-1        44100       -151284.278361  289.204161   \n",
       "7         v1.wav   Level-1        44100        -75937.933205  147.956132   \n",
       "8        aa1.wav   Level-1        44100        -85525.341936  250.702080   \n",
       "9         k2.wav   Level-2        44100       -276739.159359  303.380231   \n",
       "10        a2.wav   Level-2        44100       -213323.602890  283.196450   \n",
       "11        v2.wav   Level-2        44100        -96590.310022  168.470715   \n",
       "12       aa2.wav   Level-2        44100       -140017.396987  281.977397   \n",
       "13        k3.wav   Level-3        44100       -313422.697445  332.450153   \n",
       "14        a3.wav   Level-3        44100       -257405.756240  292.480522   \n",
       "15        v3.wav   Level-3        44100       -131960.462571  199.404365   \n",
       "16       aa3.wav   Level-3        44100       -144767.485752  287.582033   \n",
       "17        k4.wav   Level-4        44100       -481028.105373  366.131569   \n",
       "18        a4.wav   Level-4        44100       -315343.887563  309.343438   \n",
       "19        v4.wav   Level-4        44100       -154831.330542  204.816463   \n",
       "20       aa4.wav   Level-4        44100       -252507.567653  292.057638   \n",
       "\n",
       "   Gender   Duration  DurationDiff  \n",
       "0       F   2.675465      0.000000  \n",
       "1       F   3.771905      1.096440  \n",
       "2       F   3.152132      0.476667  \n",
       "3       M   3.013741      0.338277  \n",
       "4       M   4.355624      1.680159  \n",
       "5       F   5.592109      2.916644  \n",
       "6       F   4.412971      1.737506  \n",
       "7       M   3.751927      1.076463  \n",
       "8       M   4.838481      2.163016  \n",
       "9       F   6.460249      3.784785  \n",
       "10      F   5.397052      2.721587  \n",
       "11      M   5.320181      2.644717  \n",
       "12      M   6.060431      3.384966  \n",
       "13      F   7.125850      4.450385  \n",
       "14      F   7.857256      5.181791  \n",
       "15      M   8.103288      5.427823  \n",
       "16      M   6.752132      4.076667  \n",
       "17      F  10.532154      7.856689  \n",
       "18      F   8.749070      6.073605  \n",
       "19      M   9.318005      6.642540  \n",
       "20      M  10.827415      8.151950  "
      ]
     },
     "execution_count": 179,
     "metadata": {},
     "output_type": "execute_result"
    }
   ],
   "source": [
    "#printing data \n",
    "final_data.head(22)"
   ]
  },
  {
   "cell_type": "markdown",
   "metadata": {},
   "source": [
    "<h3>Create another dataset with data averaged by level</h3>"
   ]
  },
  {
   "cell_type": "code",
   "execution_count": 180,
   "metadata": {},
   "outputs": [
    {
     "data": {
      "text/html": [
       "<div>\n",
       "<style scoped>\n",
       "    .dataframe tbody tr th:only-of-type {\n",
       "        vertical-align: middle;\n",
       "    }\n",
       "\n",
       "    .dataframe tbody tr th {\n",
       "        vertical-align: top;\n",
       "    }\n",
       "\n",
       "    .dataframe thead th {\n",
       "        text-align: right;\n",
       "    }\n",
       "</style>\n",
       "<table border=\"1\" class=\"dataframe\">\n",
       "  <thead>\n",
       "    <tr style=\"text-align: right;\">\n",
       "      <th></th>\n",
       "      <th>Avg-coef</th>\n",
       "      <th>Avg-dtw</th>\n",
       "      <th>Avg-duration</th>\n",
       "      <th>Avg-duration-diff</th>\n",
       "      <th>Level</th>\n",
       "    </tr>\n",
       "  </thead>\n",
       "  <tbody>\n",
       "    <tr>\n",
       "      <th>0</th>\n",
       "      <td>-111718.708784</td>\n",
       "      <td>213.671514</td>\n",
       "      <td>3.573350</td>\n",
       "      <td>0.897885</td>\n",
       "      <td>Level-0</td>\n",
       "    </tr>\n",
       "    <tr>\n",
       "      <th>1</th>\n",
       "      <td>-137500.717508</td>\n",
       "      <td>244.206014</td>\n",
       "      <td>4.648872</td>\n",
       "      <td>1.973407</td>\n",
       "      <td>Level-1</td>\n",
       "    </tr>\n",
       "    <tr>\n",
       "      <th>2</th>\n",
       "      <td>-181667.617314</td>\n",
       "      <td>259.256198</td>\n",
       "      <td>5.809478</td>\n",
       "      <td>3.134014</td>\n",
       "      <td>Level-2</td>\n",
       "    </tr>\n",
       "    <tr>\n",
       "      <th>3</th>\n",
       "      <td>-211889.100502</td>\n",
       "      <td>277.979268</td>\n",
       "      <td>7.459632</td>\n",
       "      <td>4.784167</td>\n",
       "      <td>Level-3</td>\n",
       "    </tr>\n",
       "    <tr>\n",
       "      <th>4</th>\n",
       "      <td>-300927.722783</td>\n",
       "      <td>293.087277</td>\n",
       "      <td>9.856661</td>\n",
       "      <td>7.181196</td>\n",
       "      <td>Level-4</td>\n",
       "    </tr>\n",
       "  </tbody>\n",
       "</table>\n",
       "</div>"
      ],
      "text/plain": [
       "        Avg-coef     Avg-dtw  Avg-duration  Avg-duration-diff    Level\n",
       "0 -111718.708784  213.671514      3.573350           0.897885  Level-0\n",
       "1 -137500.717508  244.206014      4.648872           1.973407  Level-1\n",
       "2 -181667.617314  259.256198      5.809478           3.134014  Level-2\n",
       "3 -211889.100502  277.979268      7.459632           4.784167  Level-3\n",
       "4 -300927.722783  293.087277      9.856661           7.181196  Level-4"
      ]
     },
     "execution_count": 180,
     "metadata": {},
     "output_type": "execute_result"
    }
   ],
   "source": [
    "scale_table[['Avg-coef', 'Avg-dtw', 'Avg-duration', 'Avg-duration-diff','Level']]"
   ]
  },
  {
   "cell_type": "markdown",
   "metadata": {},
   "source": [
    "<h3>Create another dataset with information regarding the range of values for each level</h3>"
   ]
  },
  {
   "cell_type": "code",
   "execution_count": 182,
   "metadata": {},
   "outputs": [],
   "source": [
    "# Calculate max min for the scale and clasification\n",
    "increment_value_dtw = (scale_table.loc[4,'Avg-dtw'] - scale_table.loc[0,'Avg-dtw'])/len(scale_table['Avg-dtw'])\n",
    "list_min_dtw = list()\n",
    "list_max_dtw = list()\n",
    "list_min_duration = list()\n",
    "list_max_duration = list()\n",
    "list_min_duration_diff = list()\n",
    "list_max_duration_diff = list()\n",
    "\n",
    "# Calculate range\n",
    "last_index = len(scale_table['Avg-coef'])-1\n",
    "last_diff = 0 \n",
    "for index, row in scale_table.iterrows():\n",
    "    if index is not last_index:\n",
    "        diff_avg = (scale_table['Avg-dtw'][index+1]-row['Avg-dtw'])/2\n",
    "        diff_duration = (scale_table['Avg-duration'][index+1]-row['Avg-duration'])/2\n",
    "        diff_duration_diff = (scale_table['Avg-duration-diff'][index+1]-row['Avg-duration-diff'])/2\n",
    "        list_min_dtw.append(row['Avg-dtw']-diff_avg)\n",
    "        list_min_duration.append(row['Avg-duration']-diff_duration)\n",
    "        list_min_duration_diff.append(row['Avg-duration-diff']-diff_duration_diff)\n",
    "        last_diff = diff_avg\n",
    "    else:\n",
    "        list_min_dtw.append(row['Avg-dtw']-diff_avg)\n",
    "        list_min_duration.append(row['Avg-duration']-diff_duration)\n",
    "        list_min_duration_diff.append(row['Avg-duration-diff']-diff_duration_diff)\n",
    "\n",
    "scale_table['min-dtw'] = list_min_dtw\n",
    "scale_table['min-duration'] = list_min_duration\n",
    "scale_table['min-duration-diff'] = list_min_duration_diff\n",
    "\n",
    "# Compute Max\n",
    "for index, row in scale_table.iterrows():\n",
    "    if index is not last_index:\n",
    "        list_max_dtw.append(scale_table['min-dtw'][index+1])\n",
    "        list_max_duration.append(scale_table['min-duration'][index+1])\n",
    "        list_max_duration_diff.append(scale_table['min-duration-diff'][index+1])\n",
    "    else:\n",
    "        list_max_dtw.append(row['Avg-dtw']+increment_value_dtw)\n",
    "        list_max_duration.append(row['Avg-duration']+2)\n",
    "        list_max_duration_diff.append(row['Avg-duration-diff']+2)\n",
    "\n",
    "scale_table['max-dtw'] = list_max_dtw\n",
    "scale_table['max-duration'] = list_max_duration\n",
    "scale_table['max-duration-diff'] = list_max_duration_diff"
   ]
  },
  {
   "cell_type": "code",
   "execution_count": 183,
   "metadata": {},
   "outputs": [],
   "source": [
    "final_scale_table = scale_table[['Avg-coef', 'Avg-dtw', 'Avg-duration', 'Avg-duration-diff', 'min-dtw', 'max-dtw','min-duration','max-duration','min-duration-diff','max-duration-diff','Level']].copy()"
   ]
  },
  {
   "cell_type": "markdown",
   "metadata": {},
   "source": [
    "<h3>The resulted table will be used when decided what is the level of error of the speech input</h3>"
   ]
  },
  {
   "cell_type": "code",
   "execution_count": 184,
   "metadata": {},
   "outputs": [
    {
     "data": {
      "text/html": [
       "<div>\n",
       "<style scoped>\n",
       "    .dataframe tbody tr th:only-of-type {\n",
       "        vertical-align: middle;\n",
       "    }\n",
       "\n",
       "    .dataframe tbody tr th {\n",
       "        vertical-align: top;\n",
       "    }\n",
       "\n",
       "    .dataframe thead th {\n",
       "        text-align: right;\n",
       "    }\n",
       "</style>\n",
       "<table border=\"1\" class=\"dataframe\">\n",
       "  <thead>\n",
       "    <tr style=\"text-align: right;\">\n",
       "      <th></th>\n",
       "      <th>MFCC</th>\n",
       "      <th>DTW</th>\n",
       "      <th>Duration</th>\n",
       "      <th>DurationDiff</th>\n",
       "      <th>Min-DTW</th>\n",
       "      <th>Max-DTW</th>\n",
       "      <th>Min-Dur</th>\n",
       "      <th>Max-Dur</th>\n",
       "      <th>Min-Dur-d</th>\n",
       "      <th>Max-Dur-d</th>\n",
       "      <th>Level</th>\n",
       "    </tr>\n",
       "  </thead>\n",
       "  <tbody>\n",
       "    <tr>\n",
       "      <th>0</th>\n",
       "      <td>-111718.708784</td>\n",
       "      <td>213.671514</td>\n",
       "      <td>3.573350</td>\n",
       "      <td>0.897885</td>\n",
       "      <td>198.404264</td>\n",
       "      <td>236.680922</td>\n",
       "      <td>3.035590</td>\n",
       "      <td>4.068569</td>\n",
       "      <td>0.360125</td>\n",
       "      <td>1.393104</td>\n",
       "      <td>Level-0</td>\n",
       "    </tr>\n",
       "    <tr>\n",
       "      <th>1</th>\n",
       "      <td>-137500.717508</td>\n",
       "      <td>244.206014</td>\n",
       "      <td>4.648872</td>\n",
       "      <td>1.973407</td>\n",
       "      <td>236.680922</td>\n",
       "      <td>249.894663</td>\n",
       "      <td>4.068569</td>\n",
       "      <td>4.984402</td>\n",
       "      <td>1.393104</td>\n",
       "      <td>2.308937</td>\n",
       "      <td>Level-1</td>\n",
       "    </tr>\n",
       "    <tr>\n",
       "      <th>2</th>\n",
       "      <td>-181667.617314</td>\n",
       "      <td>259.256198</td>\n",
       "      <td>5.809478</td>\n",
       "      <td>3.134014</td>\n",
       "      <td>249.894663</td>\n",
       "      <td>270.425264</td>\n",
       "      <td>4.984402</td>\n",
       "      <td>6.261117</td>\n",
       "      <td>2.308937</td>\n",
       "      <td>3.585652</td>\n",
       "      <td>Level-2</td>\n",
       "    </tr>\n",
       "    <tr>\n",
       "      <th>3</th>\n",
       "      <td>-211889.100502</td>\n",
       "      <td>277.979268</td>\n",
       "      <td>7.459632</td>\n",
       "      <td>4.784167</td>\n",
       "      <td>270.425264</td>\n",
       "      <td>285.533272</td>\n",
       "      <td>6.261117</td>\n",
       "      <td>8.658146</td>\n",
       "      <td>3.585652</td>\n",
       "      <td>5.982681</td>\n",
       "      <td>Level-3</td>\n",
       "    </tr>\n",
       "    <tr>\n",
       "      <th>4</th>\n",
       "      <td>-300927.722783</td>\n",
       "      <td>293.087277</td>\n",
       "      <td>9.856661</td>\n",
       "      <td>7.181196</td>\n",
       "      <td>285.533272</td>\n",
       "      <td>308.970429</td>\n",
       "      <td>8.658146</td>\n",
       "      <td>11.856661</td>\n",
       "      <td>5.982681</td>\n",
       "      <td>9.181196</td>\n",
       "      <td>Level-4</td>\n",
       "    </tr>\n",
       "  </tbody>\n",
       "</table>\n",
       "</div>"
      ],
      "text/plain": [
       "            MFCC         DTW  Duration  DurationDiff     Min-DTW     Max-DTW  \\\n",
       "0 -111718.708784  213.671514  3.573350      0.897885  198.404264  236.680922   \n",
       "1 -137500.717508  244.206014  4.648872      1.973407  236.680922  249.894663   \n",
       "2 -181667.617314  259.256198  5.809478      3.134014  249.894663  270.425264   \n",
       "3 -211889.100502  277.979268  7.459632      4.784167  270.425264  285.533272   \n",
       "4 -300927.722783  293.087277  9.856661      7.181196  285.533272  308.970429   \n",
       "\n",
       "    Min-Dur    Max-Dur  Min-Dur-d  Max-Dur-d    Level  \n",
       "0  3.035590   4.068569   0.360125   1.393104  Level-0  \n",
       "1  4.068569   4.984402   1.393104   2.308937  Level-1  \n",
       "2  4.984402   6.261117   2.308937   3.585652  Level-2  \n",
       "3  6.261117   8.658146   3.585652   5.982681  Level-3  \n",
       "4  8.658146  11.856661   5.982681   9.181196  Level-4  "
      ]
     },
     "execution_count": 184,
     "metadata": {},
     "output_type": "execute_result"
    }
   ],
   "source": [
    "final_scale_table.columns = ['MFCC', 'DTW', 'Duration','DurationDiff','Min-DTW','Max-DTW','Min-Dur','Max-Dur','Min-Dur-d','Max-Dur-d','Level']\n",
    "final_scale_table"
   ]
  },
  {
   "cell_type": "markdown",
   "metadata": {},
   "source": [
    "<h3>Load a pre-recorded audio, get required information and compare them against our table to determine the level of error</h3>\n",
    "\n",
    "<p>The same process will be done against the speech input</p>"
   ]
  },
  {
   "cell_type": "code",
   "execution_count": 185,
   "metadata": {},
   "outputs": [
    {
     "name": "stdout",
     "output_type": "stream",
     "text": [
      "289.204160655 4.41297052154195 1.73750566893424\n"
     ]
    }
   ],
   "source": [
    "playing_file = audio_errors[1]+\"1.wav\"\n",
    "\n",
    "input_samples, input_sample_rate = librosa.load(path_audio_files+playing_file, sr=sample_rate)\n",
    "input_mfcc = librosa.feature.mfcc(input_samples, input_sample_rate)\n",
    "input_dist, input_cost, input_acc_cos, input_path = dtw(baseline_mfcc.T, input_mfcc.T, dist=lambda x, y: norm(x - y, ord=1))\n",
    "input_duration = len(input_samples)/input_sample_rate\n",
    "input_diff_duration = input_duration - baseline_duration\n",
    "\n",
    "print(input_dist, input_duration, input_diff_duration)"
   ]
  },
  {
   "cell_type": "markdown",
   "metadata": {},
   "source": [
    "<h3>Function to determine the level of error in the input speech<h3>"
   ]
  },
  {
   "cell_type": "code",
   "execution_count": 186,
   "metadata": {},
   "outputs": [],
   "source": [
    "#MFCC DTW Duration DurationDiff Min-DTW Max-DTW Min-Dur Max-Dur Min-Dur-d Max-Dur-d Level\n",
    "def determine_level(dtw_distance, duration, diff_against_baseline):\n",
    "    level_result = None\n",
    "    for index, row in final_scale_table.iterrows():\n",
    "        # for each row lets ask if the input data information falls in some level\n",
    "        result = [-1,-1,-1]\n",
    "        if row['Min-DTW'] <= dtw_distance <= row['Max-DTW']:\n",
    "            result[0] = 1\n",
    "        if row['Min-Dur'] <= duration <= row['Max-Dur']:\n",
    "            result[1] = 1\n",
    "        if row['Min-Dur-d'] <= diff_against_baseline <= row['Max-Dur-d']:\n",
    "            result[2] = 1\n",
    "        if sum(result) >= 1:\n",
    "            #level found\n",
    "            level_result = row['Level']\n",
    "    if level_result is None:\n",
    "        if dtw_distance < final_scale.loc[0,'DTW']:\n",
    "            level_result = 'no-error'\n",
    "        else:\n",
    "            level_result = 'default-error'\n",
    "    return level_result        "
   ]
  },
  {
   "cell_type": "code",
   "execution_count": 187,
   "metadata": {},
   "outputs": [
    {
     "data": {
      "text/plain": [
       "'Level-1'"
      ]
     },
     "execution_count": 187,
     "metadata": {},
     "output_type": "execute_result"
    }
   ],
   "source": [
    "determine_level(input_dist, input_duration, input_diff_duration)"
   ]
  },
  {
   "cell_type": "markdown",
   "metadata": {},
   "source": [
    "<h2>Let's use that information to return the file to be played back to the user</h2>"
   ]
  },
  {
   "cell_type": "code",
   "execution_count": 190,
   "metadata": {},
   "outputs": [],
   "source": [
    "# filter our data table \n",
    "def get_file_play_back(level, input_dist):\n",
    "    level_number = int(level.split('-')[1])\n",
    "    if level_number<4:\n",
    "        # let's choose the audio that is the next in the level of errors\n",
    "        possible_audio_files = final_data[final_data['Levels'] == 'Level-'+str(level_number+1)]\n",
    "        \n",
    "        for index, row in possible_audio_files.iterrows():\n",
    "            if input_dist >= row['DTW']:\n",
    "                result = row['File name']\n",
    "                break\n",
    "    return result"
   ]
  },
  {
   "cell_type": "code",
   "execution_count": 191,
   "metadata": {},
   "outputs": [
    {
     "data": {
      "text/plain": [
       "'a2.wav'"
      ]
     },
     "execution_count": 191,
     "metadata": {},
     "output_type": "execute_result"
    }
   ],
   "source": [
    "result = get_file_play_back(determine_level(input_dist, input_duration, input_diff_duration), input_dist)\n",
    "result"
   ]
  },
  {
   "cell_type": "code",
   "execution_count": 192,
   "metadata": {},
   "outputs": [],
   "source": [
    "from playsound import playsound"
   ]
  },
  {
   "cell_type": "code",
   "execution_count": 194,
   "metadata": {},
   "outputs": [],
   "source": [
    "playsound(path_audio_files+'a1.wav')\n",
    "playsound(path_audio_files+result)"
   ]
  },
  {
   "cell_type": "code",
   "execution_count": 195,
   "metadata": {},
   "outputs": [],
   "source": [
    "final_data.to_csv(path_final_data, index=False)\n",
    "final_scale_table.to_csv(path_scale_data, index=False)"
   ]
  },
  {
   "cell_type": "code",
   "execution_count": null,
   "metadata": {},
   "outputs": [],
   "source": []
  }
 ],
 "metadata": {
  "kernelspec": {
   "display_name": "Python 3",
   "language": "python",
   "name": "python3"
  },
  "language_info": {
   "codemirror_mode": {
    "name": "ipython",
    "version": 3
   },
   "file_extension": ".py",
   "mimetype": "text/x-python",
   "name": "python",
   "nbconvert_exporter": "python",
   "pygments_lexer": "ipython3",
   "version": "3.6.3"
  }
 },
 "nbformat": 4,
 "nbformat_minor": 2
}
